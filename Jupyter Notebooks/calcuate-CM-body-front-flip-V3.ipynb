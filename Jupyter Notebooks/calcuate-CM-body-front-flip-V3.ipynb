{
 "cells": [
  {
   "cell_type": "markdown",
   "metadata": {},
   "source": [
    "# Calculate CM of the body for a front flip\n",
    "\n",
    "## Josh Berg and Aaron Titus, High Point University\n"
   ]
  },
  {
   "cell_type": "markdown",
   "metadata": {},
   "source": [
    "## Description\n",
    "\n",
    "The purpose of this program is to read data for position (x,y) and time (t) for forearm (with hand), upper arm, trunk, thigh, lower leg, and head. It assumes the arms and legs are parallel. It uses Dempster's body segment parameters.\n",
    "\n",
    "Units are meters.\n",
    "\n",
    "Segmental mass as ratio of total mass.\n",
    "\n",
    "| head | trunk | upper arm | forearm and hand | thigh | lower leg |\n",
    "| --- | --- | --- | --- | --- | --- |\n",
    "| .0810 | .497 | .028 | .022 | .1 | .0465 |\n",
    "\n",
    "**Need to include reference to biomechanics book here.**"
   ]
  },
  {
   "cell_type": "markdown",
   "metadata": {},
   "source": [
    "## Using pandas to read data from a text file"
   ]
  },
  {
   "cell_type": "code",
   "execution_count": 1,
   "metadata": {
    "collapsed": true
   },
   "outputs": [],
   "source": [
    "import pandas as pd\n",
    "import numpy as np\n",
    "import matplotlib.pyplot as plt #used for graphing"
   ]
  },
  {
   "cell_type": "code",
   "execution_count": 2,
   "metadata": {
    "collapsed": true
   },
   "outputs": [],
   "source": [
    "#show graphs inline (do not use for print publication quality graphs)\n",
    "%matplotlib inline"
   ]
  },
  {
   "cell_type": "code",
   "execution_count": 3,
   "metadata": {
    "collapsed": false
   },
   "outputs": [],
   "source": [
    "# Read data file and define dataframe object (df for dataframe)\n",
    "df_all = pd.read_table('front-flip/data-trial1.txt')"
   ]
  },
  {
   "cell_type": "code",
   "execution_count": 4,
   "metadata": {
    "collapsed": false
   },
   "outputs": [
    {
     "data": {
      "text/html": [
       "<div>\n",
       "<table border=\"1\" class=\"dataframe\">\n",
       "  <thead>\n",
       "    <tr style=\"text-align: right;\">\n",
       "      <th></th>\n",
       "      <th>t</th>\n",
       "      <th>x_head</th>\n",
       "      <th>y_head</th>\n",
       "      <th>x_trunk</th>\n",
       "      <th>y_trunk</th>\n",
       "      <th>x_upper_arm</th>\n",
       "      <th>y_upper_arm</th>\n",
       "      <th>x_forearm</th>\n",
       "      <th>y_forearm</th>\n",
       "      <th>x_thigh</th>\n",
       "      <th>y_thigh</th>\n",
       "      <th>x_leg</th>\n",
       "      <th>y_leg</th>\n",
       "    </tr>\n",
       "  </thead>\n",
       "  <tbody>\n",
       "    <tr>\n",
       "      <th>0</th>\n",
       "      <td>0.0000</td>\n",
       "      <td>0.277</td>\n",
       "      <td>2.65</td>\n",
       "      <td>0.0926</td>\n",
       "      <td>2.12</td>\n",
       "      <td>0.238</td>\n",
       "      <td>2.17</td>\n",
       "      <td>0.616</td>\n",
       "      <td>1.86</td>\n",
       "      <td>-0.007340</td>\n",
       "      <td>1.24</td>\n",
       "      <td>0.000158</td>\n",
       "      <td>0.498</td>\n",
       "    </tr>\n",
       "    <tr>\n",
       "      <th>1</th>\n",
       "      <td>0.0167</td>\n",
       "      <td>0.325</td>\n",
       "      <td>2.72</td>\n",
       "      <td>0.1320</td>\n",
       "      <td>2.15</td>\n",
       "      <td>0.327</td>\n",
       "      <td>2.22</td>\n",
       "      <td>0.726</td>\n",
       "      <td>1.98</td>\n",
       "      <td>-0.000434</td>\n",
       "      <td>1.26</td>\n",
       "      <td>-0.016800</td>\n",
       "      <td>0.491</td>\n",
       "    </tr>\n",
       "    <tr>\n",
       "      <th>2</th>\n",
       "      <td>0.0333</td>\n",
       "      <td>0.349</td>\n",
       "      <td>2.75</td>\n",
       "      <td>0.1550</td>\n",
       "      <td>2.26</td>\n",
       "      <td>0.361</td>\n",
       "      <td>2.33</td>\n",
       "      <td>0.717</td>\n",
       "      <td>2.09</td>\n",
       "      <td>0.011600</td>\n",
       "      <td>1.30</td>\n",
       "      <td>-0.006580</td>\n",
       "      <td>0.525</td>\n",
       "    </tr>\n",
       "    <tr>\n",
       "      <th>3</th>\n",
       "      <td>0.0500</td>\n",
       "      <td>0.384</td>\n",
       "      <td>2.80</td>\n",
       "      <td>0.2100</td>\n",
       "      <td>2.28</td>\n",
       "      <td>0.425</td>\n",
       "      <td>2.38</td>\n",
       "      <td>0.757</td>\n",
       "      <td>2.18</td>\n",
       "      <td>-0.042400</td>\n",
       "      <td>1.37</td>\n",
       "      <td>-0.038400</td>\n",
       "      <td>0.596</td>\n",
       "    </tr>\n",
       "    <tr>\n",
       "      <th>4</th>\n",
       "      <td>0.0667</td>\n",
       "      <td>0.420</td>\n",
       "      <td>2.88</td>\n",
       "      <td>0.1890</td>\n",
       "      <td>2.32</td>\n",
       "      <td>0.394</td>\n",
       "      <td>2.45</td>\n",
       "      <td>0.782</td>\n",
       "      <td>2.25</td>\n",
       "      <td>-0.031300</td>\n",
       "      <td>1.41</td>\n",
       "      <td>-0.031600</td>\n",
       "      <td>0.641</td>\n",
       "    </tr>\n",
       "  </tbody>\n",
       "</table>\n",
       "</div>"
      ],
      "text/plain": [
       "        t  x_head  y_head  x_trunk  y_trunk  x_upper_arm  y_upper_arm  \\\n",
       "0  0.0000   0.277    2.65   0.0926     2.12        0.238         2.17   \n",
       "1  0.0167   0.325    2.72   0.1320     2.15        0.327         2.22   \n",
       "2  0.0333   0.349    2.75   0.1550     2.26        0.361         2.33   \n",
       "3  0.0500   0.384    2.80   0.2100     2.28        0.425         2.38   \n",
       "4  0.0667   0.420    2.88   0.1890     2.32        0.394         2.45   \n",
       "\n",
       "   x_forearm  y_forearm   x_thigh  y_thigh     x_leg  y_leg  \n",
       "0      0.616       1.86 -0.007340     1.24  0.000158  0.498  \n",
       "1      0.726       1.98 -0.000434     1.26 -0.016800  0.491  \n",
       "2      0.717       2.09  0.011600     1.30 -0.006580  0.525  \n",
       "3      0.757       2.18 -0.042400     1.37 -0.038400  0.596  \n",
       "4      0.782       2.25 -0.031300     1.41 -0.031600  0.641  "
      ]
     },
     "execution_count": 4,
     "metadata": {},
     "output_type": "execute_result"
    }
   ],
   "source": [
    "#print first five rows of data with the header\n",
    "df_all.head()"
   ]
  },
  {
   "cell_type": "code",
   "execution_count": 5,
   "metadata": {
    "collapsed": false
   },
   "outputs": [],
   "source": [
    "Mlbs = 165 #total weight in pounds\n",
    "M = Mlbs/2.2 #total mass in kg\n",
    "segmass_percent=np.array([.0810 , .497 , 2*.028 , 2*.022 , 2*.1 , 2*.0465])\n",
    "segmass=segmass_percent*M\n",
    "#print(M,np.sum(segmass),segmass)"
   ]
  },
  {
   "cell_type": "code",
   "execution_count": 6,
   "metadata": {
    "collapsed": true
   },
   "outputs": [],
   "source": [
    "# Column heading full names\n",
    "data_labels= [\n",
    "    't (s)',\n",
    "    'x of head (px)',\n",
    "    'y of head (px)',\n",
    "    'x of trunk (px)',\n",
    "    'y of trunk (px)',\n",
    "    'x of upper arm (px)',\n",
    "    'y of upper arm (px)',\n",
    "    'x of forearm+hand (px)',\n",
    "    'y of forearm+hand (px)',\n",
    "    'x of thigh (px)',\n",
    "    'y of thigh (px)',\n",
    "    'x of lower leg (px)',\n",
    "    'y of lower leg (px)',\n",
    "]\n"
   ]
  },
  {
   "cell_type": "code",
   "execution_count": 7,
   "metadata": {
    "collapsed": false
   },
   "outputs": [
    {
     "data": {
      "text/plain": [
       "(84, 13)"
      ]
     },
     "execution_count": 7,
     "metadata": {},
     "output_type": "execute_result"
    }
   ],
   "source": [
    "#rows, columns of data table\n",
    "df_all.shape"
   ]
  },
  {
   "cell_type": "code",
   "execution_count": 8,
   "metadata": {
    "collapsed": false
   },
   "outputs": [
    {
     "data": {
      "text/plain": [
       "(84,)"
      ]
     },
     "execution_count": 8,
     "metadata": {},
     "output_type": "execute_result"
    }
   ],
   "source": [
    "#create a V array for all rows\n",
    "tarray = np.array(df_all['t'].tolist()) #create array\n",
    "tarray.shape\n"
   ]
  },
  {
   "cell_type": "code",
   "execution_count": 9,
   "metadata": {
    "collapsed": false
   },
   "outputs": [
    {
     "data": {
      "text/plain": [
       "(84,)"
      ]
     },
     "execution_count": 9,
     "metadata": {},
     "output_type": "execute_result"
    }
   ],
   "source": [
    "#create a x array for all rows\n",
    "x_headarray = np.array(df_all['x_head'].tolist()) #create array\n",
    "x_headarray.shape\n",
    "y_headarray = np.array(df_all['y_head'].tolist()) #create array\n",
    "y_headarray.shape\n",
    "\n",
    "\n",
    "x_trunk = np.array(df_all['x_trunk'].tolist()) #create array\n",
    "x_trunk.shape\n",
    "y_trunk = np.array(df_all['y_trunk'].tolist()) #create array\n",
    "y_trunk.shape\n",
    "\n",
    "x_upper_arm = np.array(df_all['x_upper_arm'].tolist()) #create array\n",
    "x_upper_arm.shape\n",
    "y_upper_arm = np.array(df_all['y_upper_arm'].tolist()) #create array\n",
    "y_upper_arm.shape\n",
    "\n",
    "x_forearm = np.array(df_all['x_forearm'].tolist()) #create array\n",
    "x_forearm.shape\n",
    "y_forearm = np.array(df_all['y_forearm'].tolist()) #create array\n",
    "y_forearm.shape\n",
    "\n",
    "x_thigh = np.array(df_all['x_thigh'].tolist()) #create array\n",
    "x_thigh.shape\n",
    "y_thigh = np.array(df_all['y_thigh'].tolist()) #create array\n",
    "y_thigh.shape\n",
    "\n",
    "x_leg = np.array(df_all['x_leg'].tolist()) #create array\n",
    "x_leg.shape\n",
    "y_leg = np.array(df_all['y_leg'].tolist()) #create array\n",
    "y_leg.shape"
   ]
  },
  {
   "cell_type": "code",
   "execution_count": 10,
   "metadata": {
    "collapsed": false
   },
   "outputs": [],
   "source": [
    "# compute CM\n",
    "#segmentdata=[[x_headarray,y_headarray],[x_trunk,y_trunk],[x_upper_arm,y_upper_arm],[x_forearm,y_forearm],[x_thigh,y_thigh],[x_leg,y_leg]]\n",
    "xcmarray=segmass[0]*x_headarray+segmass[1]*x_trunk+ segmass[2]*x_upper_arm+ segmass[3]*x_forearm+segmass[4]*x_thigh+segmass[5]*x_leg\n",
    "ycmarray=segmass[0]*y_headarray+segmass[1]*y_trunk+ segmass[2]*y_upper_arm+ segmass[3]*y_forearm+segmass[4]*y_thigh+segmass[5]*y_leg"
   ]
  },
  {
   "cell_type": "code",
   "execution_count": 11,
   "metadata": {
    "collapsed": false
   },
   "outputs": [
    {
     "data": {
      "image/png": "[encoded data removed]",
      "text/plain": [
       "<matplotlib.figure.Figure at 0x116db5278>"
      ]
     },
     "metadata": {},
     "output_type": "display_data"
    },
    {
     "data": {
      "image/png": "[encoded data removed]",
      "text/plain": [
       "<matplotlib.figure.Figure at 0x116e67748>"
      ]
     },
     "metadata": {},
     "output_type": "display_data"
    },
    {
     "data": {
      "image/png": "[encoded data removed]",
      "text/plain": [
       "<matplotlib.figure.Figure at 0x116f10240>"
      ]
     },
     "metadata": {},
     "output_type": "display_data"
    }
   ],
   "source": [
    "#plot graph\n",
    "fig2 = plt.figure()\n",
    "plt.title('X of Center of Mass vs. ' + data_labels[0])\n",
    "plt.xlabel(data_labels[0])\n",
    "plt.ylabel(\"x_cm (px)\")\n",
    "plt.plot(tarray,xcmarray,'b-')\n",
    "plt.show()\n",
    "\n",
    "fig2 = plt.figure()\n",
    "plt.title('Y of Center of Mass vs. ' + data_labels[0])\n",
    "plt.xlabel(data_labels[0])\n",
    "plt.ylabel(\"y_cm (px)\")\n",
    "plt.plot(tarray,ycmarray,'b-')\n",
    "plt.show()\n",
    "\n",
    "fig2 = plt.figure()\n",
    "plt.title('Y of Center of Mass vs. X of Center of Mass')\n",
    "plt.xlabel(\"x_cm (px)\")\n",
    "plt.ylabel(\"y_cm (px)\")\n",
    "plt.plot(xcmarray,ycmarray,'b-')\n",
    "plt.show()"
   ]
  },
  {
   "cell_type": "code",
   "execution_count": null,
   "metadata": {
    "collapsed": true
   },
   "outputs": [],
   "source": []
  }
 ],
 "metadata": {
  "kernelspec": {
   "display_name": "Python 3",
   "language": "python",
   "name": "python3"
  },
  "language_info": {
   "codemirror_mode": {
    "name": "ipython",
    "version": 3
   },
   "file_extension": ".py",
   "mimetype": "text/x-python",
   "name": "python",
   "nbconvert_exporter": "python",
   "pygments_lexer": "ipython3",
   "version": "3.6.0"
  }
 },
 "nbformat": 4,
 "nbformat_minor": 2
}
